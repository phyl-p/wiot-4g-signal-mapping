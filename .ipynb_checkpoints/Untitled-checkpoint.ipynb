{
 "cells": [
  {
   "cell_type": "markdown",
   "id": "d07381cc",
   "metadata": {},
   "source": [
    "## 4G Signal Strength Mapping in UVA Engineering School\n",
    "### WIoT Final Project Group 5\n",
    "\n",
    "**Project Motivation**:\n",
    "Long range signal transmission can have blind spots well within their proposed range–as we have seen for LoRa and BLE, where the theoretical range is a lot shorter or is significantly reduced due to the objects in the environment. LoRa has a proposed range of 3 miles in urban areas, but as shown in the results of the measurements in this class, it can have certain blind spots well within the 3 mile range, especially in underground settings such as basements. 4G/5G are important means of communication on Grounds, and they are relied upon for real time communication in case WiFi fails. Yet, it is sometimes reported that the 4G/5G coverage on Grounds is not ideal, especially in terms of underground environments. The Engineering School has a lot of buildings where the basements are environments where important experiments take place. Having robust and redundant communication is important for the safety of both the faculty, staff, students, and their work. Hence, we propose to measure the 4G/5G coverage in the E-School and around grounds. We will use various internet speed measurement apps on our phones to collect the data at specific geographic locations, indoors and outdoors. Using this data we can then create heatmaps for both indoor and outdoor settings, exploring the differences and enlightening the community to areas of low coverage.\n",
    "\n",
    "**This python notebook is step 3 of our project where we map the collected signal strength data**\n",
    "\n",
    "Data Mapping Plan:\n",
    "1. map data by type of sinal strenght (upload, download, rssi), floors and their coordinates.\n",
    "2. Collect stats, such as mean, std, and range by floor, building and graph bar chart"
   ]
  },
  {
   "cell_type": "markdown",
   "id": "df759a42",
   "metadata": {},
   "source": [
    "Library Setup and Data Import"
   ]
  },
  {
   "cell_type": "code",
   "execution_count": 32,
   "id": "9839cdb0",
   "metadata": {},
   "outputs": [],
   "source": [
    "import pandas as pd\n",
    "import numpy as np\n",
    "import plotly.express as px"
   ]
  },
  {
   "cell_type": "code",
   "execution_count": 33,
   "id": "3f80376f",
   "metadata": {},
   "outputs": [],
   "source": [
    "indoors = pd.read_csv(\"WIoT Final Project 4G_5G Data - Indoor.csv\")\n",
    "outdoors = pd.read_csv(\"WIoT Final Project 4G_5G Data - Outdoor.csv\")"
   ]
  },
  {
   "cell_type": "markdown",
   "id": "cffa7178",
   "metadata": {},
   "source": [
    "Data Exploration and Processing"
   ]
  },
  {
   "cell_type": "markdown",
   "id": "dff34da0",
   "metadata": {},
   "source": [
    "print(outdoors.columns)\n",
    "print(outdoors.info())"
   ]
  },
  {
   "cell_type": "code",
   "execution_count": 35,
   "id": "cf9d0ce0",
   "metadata": {},
   "outputs": [
    {
     "name": "stdout",
     "output_type": "stream",
     "text": [
      "Index(['Location ID', 'Description', 'Floor', 'Lat', 'Long', '4G RSSI signal',\n",
      "       '4G download rate', '4G upload rate'],\n",
      "      dtype='object')\n",
      "<class 'pandas.core.frame.DataFrame'>\n",
      "RangeIndex: 79 entries, 0 to 78\n",
      "Data columns (total 8 columns):\n",
      " #   Column            Non-Null Count  Dtype  \n",
      "---  ------            --------------  -----  \n",
      " 0   Location ID       79 non-null     object \n",
      " 1   Description       79 non-null     object \n",
      " 2   Floor             79 non-null     object \n",
      " 3   Lat               79 non-null     float64\n",
      " 4   Long              79 non-null     float64\n",
      " 5   4G RSSI signal    79 non-null     int64  \n",
      " 6   4G download rate  79 non-null     float64\n",
      " 7   4G upload rate    79 non-null     float64\n",
      "dtypes: float64(4), int64(1), object(3)\n",
      "memory usage: 5.1+ KB\n",
      "None\n"
     ]
    }
   ],
   "source": [
    "print(indoors.columns)\n",
    "print(indoors.info())"
   ]
  },
  {
   "cell_type": "code",
   "execution_count": null,
   "id": "52086a32",
   "metadata": {},
   "outputs": [],
   "source": []
  },
  {
   "cell_type": "markdown",
   "id": "65cf9f64",
   "metadata": {},
   "source": [
    "# Data Visualizations"
   ]
  },
  {
   "cell_type": "code",
   "execution_count": 38,
   "id": "dede077a",
   "metadata": {},
   "outputs": [
    {
     "ename": "SyntaxError",
     "evalue": "closing parenthesis ')' does not match opening parenthesis '[' (2596934436.py, line 2)",
     "output_type": "error",
     "traceback": [
      "\u001b[0;36m  File \u001b[0;32m\"/var/folders/1l/mmyy9v2n47l_70ty0lkv3zz80000gn/T/ipykernel_39646/2596934436.py\"\u001b[0;36m, line \u001b[0;32m2\u001b[0m\n\u001b[0;31m    fig = px.scatter_mapbox((indoors[indoors['Floor'] == '0') || (indoors[indoors['Floor'] == 'A')|| (indoors[indoors['Floor'] == '0''B')], lat='Lat', lon='Long', mapbox_style=\"stamen-terrain\", zoom=10.5,\u001b[0m\n\u001b[0m                                                            ^\u001b[0m\n\u001b[0;31mSyntaxError\u001b[0m\u001b[0;31m:\u001b[0m closing parenthesis ')' does not match opening parenthesis '['\n"
     ]
    }
   ],
   "source": [
    "#GRAPH Basement floors RSSI Signal\n",
    "fig = px.scatter_mapbox((indoors[indoors['Floor'] == '0') || (indoors[indoors['Floor'] == 'A')|| (indoors[indoors['Floor'] == 'B'], lat='Lat', lon='Long', mapbox_style=\"stamen-terrain\", zoom=10.5,\n",
    " color='4G RSSI signal', hover_name='Description', hover_data=['Location ID','4G RSSI signal'],\n",
    " )\n",
    "fig.show()"
   ]
  },
  {
   "cell_type": "code",
   "execution_count": null,
   "id": "bb52d86c",
   "metadata": {},
   "outputs": [],
   "source": []
  },
  {
   "cell_type": "code",
   "execution_count": null,
   "id": "27e13cc7",
   "metadata": {},
   "outputs": [],
   "source": []
  },
  {
   "cell_type": "code",
   "execution_count": null,
   "id": "c91c2e15",
   "metadata": {},
   "outputs": [],
   "source": []
  }
 ],
 "metadata": {
  "kernelspec": {
   "display_name": "Python 3 (ipykernel)",
   "language": "python",
   "name": "python3"
  },
  "language_info": {
   "codemirror_mode": {
    "name": "ipython",
    "version": 3
   },
   "file_extension": ".py",
   "mimetype": "text/x-python",
   "name": "python",
   "nbconvert_exporter": "python",
   "pygments_lexer": "ipython3",
   "version": "3.9.7"
  }
 },
 "nbformat": 4,
 "nbformat_minor": 5
}
